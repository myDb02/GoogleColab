{
  "nbformat": 4,
  "nbformat_minor": 0,
  "metadata": {
    "colab": {
      "provenance": [],
      "authorship_tag": "ABX9TyOQ5ScWP7aiYTbVd+d/Zo9i",
      "include_colab_link": true
    },
    "kernelspec": {
      "name": "python3",
      "display_name": "Python 3"
    },
    "language_info": {
      "name": "python"
    }
  },
  "cells": [
    {
      "cell_type": "markdown",
      "metadata": {
        "id": "view-in-github",
        "colab_type": "text"
      },
      "source": [
        "<a href=\"https://colab.research.google.com/github/myDb02/GoogleColab/blob/main/Cleaning_Data.ipynb\" target=\"_parent\"><img src=\"https://colab.research.google.com/assets/colab-badge.svg\" alt=\"Open In Colab\"/></a>"
      ]
    },
    {
      "cell_type": "markdown",
      "source": [
        "# **Cleaning Data**\n",
        "\n",
        "---\n",
        "\n"
      ],
      "metadata": {
        "id": "W4-JEThFnr_D"
      }
    },
    {
      "cell_type": "code",
      "execution_count": null,
      "metadata": {
        "colab": {
          "base_uri": "https://localhost:8080/"
        },
        "id": "forGMtNF2m7u",
        "outputId": "25031378-d0b2-4c30-bb76-c45b56fb503c"
      },
      "outputs": [
        {
          "output_type": "stream",
          "name": "stdout",
          "text": [
            "Mounted at /content/drive\n"
          ]
        }
      ],
      "source": [
        "from google.colab import drive\n",
        "drive.mount('/content/drive')"
      ]
    },
    {
      "cell_type": "code",
      "source": [
        "import pandas as pd\n",
        "import re\n",
        "\n",
        "# 1. Membaca dataset\n",
        "file_path = \"/content/drive/MyDrive/Dataset/bahlil(1).csv\"  # Ganti dengan path file asli jika perlu\n",
        "df = pd.read_csv(file_path)\n",
        "\n",
        "# 2. Menampilkan struktur awal dataset\n",
        "print(\"Data sebelum dibersihkan :\")\n",
        "print(df.head())\n",
        "\n",
        "# 3. Fungsi untuk menghapus mention @account_twitter\n",
        "def remove_mentions(text):\n",
        "    return re.sub(r'@\\w+', '', str(text)).strip()  # Menghapus mention dan membersihkan spasi\n",
        "\n",
        "# 4. Menerapkan fungsi ke kolom full_text\n",
        "df[\"full_text\"] = df[\"full_text\"].apply(remove_mentions)\n",
        "\n",
        "# 5. Menampilkan hasil setelah pembersihan\n",
        "print(\"\\nData setelah dibersihkan:\")\n",
        "print(df.head())\n",
        "\n",
        "# 6. Menyimpan dataset yang telah dibersihkan\n",
        "cleaned_file_path = \"bahlil_cleaned.csv\"\n",
        "df.to_csv(cleaned_file_path, index=False)\n",
        "\n",
        "(f\"\\nDataset yang telah dibersihkan telah disimpan dalam file: {cleaned_file_path}\")"
      ],
      "metadata": {
        "colab": {
          "base_uri": "https://localhost:8080/",
          "height": 1000
        },
        "id": "qsRcx_ug203-",
        "outputId": "c408d1a4-3785-4548-cb5f-17bd6e3674c4"
      },
      "execution_count": null,
      "outputs": [
        {
          "output_type": "stream",
          "name": "stdout",
          "text": [
            "Data sebelum dibersihkan :\n",
            "   conversation_id_str                      created_at  favorite_count  \\\n",
            "0  1897660064498139228  Thu Mar 06 23:40:24 +0000 2025               3   \n",
            "1  1897792097069236383  Thu Mar 06 23:31:09 +0000 2025               0   \n",
            "2  1897791807137730856  Thu Mar 06 23:30:00 +0000 2025               6   \n",
            "3  1897176679057178852  Thu Mar 06 23:04:15 +0000 2025               1   \n",
            "4  1897636538537681068  Thu Mar 06 23:01:20 +0000 2025               0   \n",
            "\n",
            "                                           full_text               id_str  \\\n",
            "0  @minasr_ismine Bahlil kedua entar bentar lg ad...  1897794424249499834   \n",
            "1                           benci w liat muka bahlil  1897792097069236383   \n",
            "2  Bahlil Lahadalia Targetkan Investasi Capai Rp....  1897791807137730856   \n",
            "3  @Duren___ Lebanon di anugerahi Kahlil Gibran I...  1897785327852699932   \n",
            "4  @KangManto123 Jadi ingat Bahlil jika ketemu Gi...  1897784591647490133   \n",
            "\n",
            "  image_url in_reply_to_screen_name lang                location  quote_count  \\\n",
            "0       NaN           minasr_ismine   in                     NaN            0   \n",
            "1       NaN                     NaN   in                     NaN            0   \n",
            "2       NaN                     NaN   in  DKI Jakarta, Indonesia            0   \n",
            "3       NaN                Duren___   in                     NaN            0   \n",
            "4       NaN            KangManto123   in                     NaN            0   \n",
            "\n",
            "   reply_count  retweet_count  \\\n",
            "0            0              2   \n",
            "1            0              0   \n",
            "2            0             39   \n",
            "3            0              0   \n",
            "4            0              0   \n",
            "\n",
            "                                           tweet_url          user_id_str  \\\n",
            "0  https://x.com/redstar3_/status/189779442424949...  1752535388131094528   \n",
            "1  https://x.com/pacarhijey/status/18977920970692...  1850559592771862528   \n",
            "2  https://x.com/golkarpedia/status/1897791807137...   721898354502930433   \n",
            "3  https://x.com/Janjijoni_1/status/1897785327852...  1888593666371121152   \n",
            "4  https://x.com/Untungrakatesa/status/1897784591...  1231858064648572928   \n",
            "\n",
            "         username  \n",
            "0       redstar3_  \n",
            "1      pacarhijey  \n",
            "2     golkarpedia  \n",
            "3     Janjijoni_1  \n",
            "4  Untungrakatesa  \n",
            "\n",
            "Data setelah dibersihkan:\n",
            "   conversation_id_str                      created_at  favorite_count  \\\n",
            "0  1897660064498139228  Thu Mar 06 23:40:24 +0000 2025               3   \n",
            "1  1897792097069236383  Thu Mar 06 23:31:09 +0000 2025               0   \n",
            "2  1897791807137730856  Thu Mar 06 23:30:00 +0000 2025               6   \n",
            "3  1897176679057178852  Thu Mar 06 23:04:15 +0000 2025               1   \n",
            "4  1897636538537681068  Thu Mar 06 23:01:20 +0000 2025               0   \n",
            "\n",
            "                                           full_text               id_str  \\\n",
            "0  Bahlil kedua entar bentar lg ada pahlawan kesi...  1897794424249499834   \n",
            "1                           benci w liat muka bahlil  1897792097069236383   \n",
            "2  Bahlil Lahadalia Targetkan Investasi Capai Rp....  1897791807137730856   \n",
            "3  Lebanon di anugerahi Kahlil Gibran Indonesia d...  1897785327852699932   \n",
            "4  Jadi ingat Bahlil jika ketemu Gibran nunduk sa...  1897784591647490133   \n",
            "\n",
            "  image_url in_reply_to_screen_name lang                location  quote_count  \\\n",
            "0       NaN           minasr_ismine   in                     NaN            0   \n",
            "1       NaN                     NaN   in                     NaN            0   \n",
            "2       NaN                     NaN   in  DKI Jakarta, Indonesia            0   \n",
            "3       NaN                Duren___   in                     NaN            0   \n",
            "4       NaN            KangManto123   in                     NaN            0   \n",
            "\n",
            "   reply_count  retweet_count  \\\n",
            "0            0              2   \n",
            "1            0              0   \n",
            "2            0             39   \n",
            "3            0              0   \n",
            "4            0              0   \n",
            "\n",
            "                                           tweet_url          user_id_str  \\\n",
            "0  https://x.com/redstar3_/status/189779442424949...  1752535388131094528   \n",
            "1  https://x.com/pacarhijey/status/18977920970692...  1850559592771862528   \n",
            "2  https://x.com/golkarpedia/status/1897791807137...   721898354502930433   \n",
            "3  https://x.com/Janjijoni_1/status/1897785327852...  1888593666371121152   \n",
            "4  https://x.com/Untungrakatesa/status/1897784591...  1231858064648572928   \n",
            "\n",
            "         username  \n",
            "0       redstar3_  \n",
            "1      pacarhijey  \n",
            "2     golkarpedia  \n",
            "3     Janjijoni_1  \n",
            "4  Untungrakatesa  \n"
          ]
        },
        {
          "output_type": "execute_result",
          "data": {
            "text/plain": [
              "'\\nDataset yang telah dibersihkan telah disimpan dalam file: bahlil_cleaned.csv'"
            ],
            "application/vnd.google.colaboratory.intrinsic+json": {
              "type": "string"
            }
          },
          "metadata": {},
          "execution_count": 2
        }
      ]
    }
  ]
}